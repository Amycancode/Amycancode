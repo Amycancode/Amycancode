{
 "cells": [
  {
   "cell_type": "code",
   "execution_count": 2,
   "id": "6d40f276-3c0d-418c-83bd-b6d6588343bf",
   "metadata": {},
   "outputs": [
    {
     "name": "stdout",
     "output_type": "stream",
     "text": [
      "Name: Amara, Age: 25, Is Student: True\n"
     ]
    }
   ],
   "source": [
    "# Create 3 different variables of different types and print their values using a single print statement.\n",
    "name = \"Amara\"  # String\n",
    "age = 25        # Integer\n",
    "is_student = True  # Boolean\n",
    "\n",
    "print(f\"Name: {name}, Age: {age}, Is Student: {is_student}\")\n"
   ]
  },
  {
   "cell_type": "code",
   "execution_count": 3,
   "id": "a14d9782-211e-4714-bcf5-5e42aabbeee7",
   "metadata": {},
   "outputs": [
    {
     "name": "stdout",
     "output_type": "stream",
     "text": [
      "[1, 2, 3, 4]\n"
     ]
    }
   ],
   "source": [
    "a_list = [1, 2, 3, 4, 5, 6, 7, 8, 9]\n",
    "sliced_list = a_list[:4]  # Slice by index to get elements smaller than 5\n",
    "print(sliced_list)\n"
   ]
  },
  {
   "cell_type": "code",
   "execution_count": 4,
   "id": "0c5ae119-8ea6-4ab6-a6c3-47bc82817770",
   "metadata": {},
   "outputs": [
    {
     "name": "stdout",
     "output_type": "stream",
     "text": [
      "[2, 4, 6, 8]\n"
     ]
    }
   ],
   "source": [
    "a_list = [1, 2, 3, 4, 5, 6, 7, 8, 9]\n",
    "even_list = [num for num in a_list if num % 2 == 0]\n",
    "print(even_list)\n"
   ]
  },
  {
   "cell_type": "code",
   "execution_count": 7,
   "id": "1a5cf116-2ba7-4724-8b1a-e4a4c645b4a0",
   "metadata": {},
   "outputs": [
    {
     "name": "stdout",
     "output_type": "stream",
     "text": [
      "[3, 6, 9]\n"
     ]
    }
   ],
   "source": [
    "a_list =[1,2,3,4,5,6,7,8,9,]\n",
    "mul_of_3 = []\n",
    "\n",
    "for num in a_list:\n",
    "    if num % 3 == 0:\n",
    "        mul_of_3.append(num)\n",
    "\n",
    "print(mul_of_3)"
   ]
  },
  {
   "cell_type": "code",
   "execution_count": null,
   "id": "f9b4eccc-3688-4376-868a-aa7837a5f6b0",
   "metadata": {},
   "outputs": [],
   "source": []
  },
  {
   "cell_type": "code",
   "execution_count": 9,
   "id": "e1fbe99f-ee12-4783-b974-2fdd3dd18f9f",
   "metadata": {},
   "outputs": [
    {
     "name": "stdout",
     "output_type": "stream",
     "text": [
      "['9', '8', '6', '5', '4']\n"
     ]
    }
   ],
   "source": [
    "# Create a function that takes a list of numbers and convert them into strings\n",
    "def convert_numbers_to_strings(numbers):\n",
    "    return [str(num) for num in numbers]\n",
    "\n",
    "# Example:\n",
    "numbers_list = [9, 8, 6, 5, 4]\n",
    "strings_list = convert_numbers_to_strings(numbers_list)\n",
    "print(strings_list)"
   ]
  },
  {
   "cell_type": "code",
   "execution_count": 10,
   "id": "6575730a-f11b-412e-aab4-14a19404ca19",
   "metadata": {},
   "outputs": [
    {
     "name": "stdout",
     "output_type": "stream",
     "text": [
      "The result of sum is: 30\n"
     ]
    }
   ],
   "source": [
    "def calculator(num1, num2, operation):\n",
    "    if operation == 'sum':\n",
    "        return num1 + num2\n",
    "    elif operation == 'subtraction':\n",
    "        return num1 - num2\n",
    "    elif operation == 'division':\n",
    "        return num1 / num2\n",
    "    elif operation == 'multiplication':\n",
    "        return num1 * num2\n",
    "    elif operation == 'exponent':\n",
    "        return num1 ** num2\n",
    "    else:\n",
    "        return \"Invalid operation\"\n",
    "\n",
    "# Example usage:\n",
    "num1 = 10\n",
    "num2 = 20\n",
    "\n",
    "# Change 'operation' to any of the desired options: 'sum', 'subtraction', 'division', 'multiplication', 'exponent'\n",
    "operation = 'sum'\n",
    "result = calculator(num1, num2, operation)\n",
    "print(f\"The result of {operation} is: {result}\")\n"
   ]
  },
  {
   "cell_type": "code",
   "execution_count": 11,
   "id": "2318b00f-bf20-4c63-9cd0-7af83067cb2e",
   "metadata": {},
   "outputs": [
    {
     "name": "stdout",
     "output_type": "stream",
     "text": [
      "Is 3 in the list? True\n"
     ]
    }
   ],
   "source": [
    "def is_number_in_list(number, num_list):\n",
    "    return number in num_list\n",
    "\n",
    "numbers_list = [ 10,5,8,9,19,8,7,3,20]\n",
    "number_to_check =3\n",
    "\n",
    "result = is_number_in_list(number_to_check, numbers_list)\n",
    "print(f\"Is {number_to_check} in the list? {result}\")"
   ]
  },
  {
   "cell_type": "code",
   "execution_count": 12,
   "id": "363c018d-4a93-47bd-935c-043c10fa3d7a",
   "metadata": {},
   "outputs": [
    {
     "name": "stdout",
     "output_type": "stream",
     "text": [
      "Does 'I have a Dog' contain 'Dog'? True\n",
      "Does 'I have a Dog' contain 'ave'? True\n"
     ]
    }
   ],
   "source": [
    "def contains_substring(main_string, substring):\n",
    "    return substring in main_string\n",
    "\n",
    "\n",
    "main_string = 'I have a Dog'\n",
    "substring_to_check1 = 'Dog'\n",
    "substring_to_check2 = 'ave'\n",
    "\n",
    "result1 = contains_substring(main_string, substring_to_check1)\n",
    "result2 = contains_substring(main_string, substring_to_check2)\n",
    "\n",
    "print(f\"Does '{main_string}' contain '{substring_to_check1}'? {result1}\")\n",
    "print(f\"Does '{main_string}' contain '{substring_to_check2}'? {result2}\")\n"
   ]
  },
  {
   "cell_type": "code",
   "execution_count": 13,
   "id": "d6a31a23-1d6c-46d3-8f6d-1eb0f8d05e04",
   "metadata": {},
   "outputs": [
    {
     "name": "stdout",
     "output_type": "stream",
     "text": [
      "Yeeeey!\n"
     ]
    }
   ],
   "source": [
    "#modified code so it produces the desired output\n",
    "food = 'Pizza'\n",
    "drinks = 'Beer'\n",
    "\n",
    "if food == 'Pizza' and drinks == 'Beer':\n",
    "    print('Yeeeey!')\n",
    "elif food == 'Pizza' and drinks != 'Beer':\n",
    "    print('Yey.')\n",
    "elif food != 'Pizza' and drinks == 'Beer':\n",
    "    print('Yey!')\n",
    "else:\n",
    "    print('.....???')\n"
   ]
  },
  {
   "cell_type": "code",
   "execution_count": null,
   "id": "359b8365-9a6b-444b-b954-994202a2b3a9",
   "metadata": {},
   "outputs": [],
   "source": [
    " \" #print(\"does this work?\") \"\n",
    "#This is a comment so it would not work. "
   ]
  },
  {
   "cell_type": "code",
   "execution_count": null,
   "id": "9fcd10a5-de75-4a42-828a-a9518eebfa3f",
   "metadata": {},
   "outputs": [],
   "source": [
    "print(\"about now?')\n",
    "\n",
    "# This would not print because the quotation mark does not match\n",
    "#This is the correct code. print(\"about now?\")\n"
   ]
  },
  {
   "cell_type": "code",
   "execution_count": null,
   "id": "14457fd4-8043-4e79-aac6-0d0ecd853df4",
   "metadata": {},
   "outputs": [],
   "source": [
    "#The issue with the code below is that it is  missing a comma between text_variable and my_mood in the print function. \n",
    "\n",
    "text_variable = \"Today on a scale from 1 to 10 I am feeling...\"\n",
    "my_mood = 10\n",
    "print(text_variable my_mood)\n",
    "\n",
    "#This is the correct one. \n",
    "\n",
    "text_variable = \"Today on a scale from 1 to 10 I am feeling...\"\n",
    "my_mood = 10\n",
    "print(text_variable, my_mood)\n"
   ]
  },
  {
   "cell_type": "code",
   "execution_count": null,
   "id": "0b6beae3-0c2d-4f81-84b6-906beaf94d56",
   "metadata": {},
   "outputs": [],
   "source": [
    "# The issue here is that the case of string comparisons in Python is sensitive. The mood variable is set to 'happy' (all lowercase), while the if statement checks for 'Happy' (capitalized). Python sees them as different strings.\n",
    " \n",
    "# Why isn't the outcome 'Clap your hands?'\n",
    "mood = 'happy'\n",
    "if mood == 'Happy':\n",
    "    print('Clap your hands')\n",
    "else:\n",
    "    print('...do I look like I have this one figured out?')\n",
    "\n",
    "\n",
    "#This is the corrected one\n",
    "\n",
    "mood = 'happy'\n",
    "if mood == 'happy':\n",
    "    print('Clap your hands')\n",
    "else:\n",
    "    print('...do I look like I have this one figured out?')\n"
   ]
  },
  {
   "cell_type": "code",
   "execution_count": null,
   "id": "d85dbbf0-fc36-4606-bce5-d31e134b7cfa",
   "metadata": {},
   "outputs": [],
   "source": [
    "# The problem with this code is indentation. \n",
    "def printerfunction(x,y):\n",
    "print(x,y)\n",
    "\n",
    "printerfunction(\"a word\", \"another word\")\n",
    "\n",
    "#"
   ]
  }
 ],
 "metadata": {
  "kernelspec": {
   "display_name": "Python 3 (ipykernel)",
   "language": "python",
   "name": "python3"
  },
  "language_info": {
   "codemirror_mode": {
    "name": "ipython",
    "version": 3
   },
   "file_extension": ".py",
   "mimetype": "text/x-python",
   "name": "python",
   "nbconvert_exporter": "python",
   "pygments_lexer": "ipython3",
   "version": "3.12.4"
  }
 },
 "nbformat": 4,
 "nbformat_minor": 5
}
