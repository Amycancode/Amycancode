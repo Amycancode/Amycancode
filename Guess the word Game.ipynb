{
 "cells": [
  {
   "cell_type": "code",
   "execution_count": null,
   "id": "5cc7ceeb-1d91-4403-b47d-8ba796d1084d",
   "metadata": {},
   "outputs": [
    {
     "name": "stdout",
     "output_type": "stream",
     "text": [
      "_ _ _ _ _\n",
      "Attempts left: 6\n",
      "Total letters: 5\n",
      "Score: 100\n"
     ]
    },
    {
     "name": "stdin",
     "output_type": "stream",
     "text": [
      "Guess a letter, the whole word, type \"hint\" for a hint, or type \"give up\" to reveal the word:  hint\n"
     ]
    },
    {
     "name": "stdout",
     "output_type": "stream",
     "text": [
      "Hint: A Large, Sweet Fruit With A Thick Rind\n",
      "_ _ _ _ _\n",
      "Attempts left: 6\n",
      "Total letters: 5\n",
      "Score: 100\n"
     ]
    },
    {
     "name": "stdin",
     "output_type": "stream",
     "text": [
      "Guess a letter, the whole word, type \"hint\" for a hint, or type \"give up\" to reveal the word:  hint\n"
     ]
    },
    {
     "name": "stdout",
     "output_type": "stream",
     "text": [
      "Hint: Starts with M and ends with N\n",
      "_ _ _ _ _\n",
      "Attempts left: 6\n",
      "Total letters: 5\n",
      "Score: 100\n"
     ]
    },
    {
     "name": "stdin",
     "output_type": "stream",
     "text": [
      "Guess a letter, the whole word, type \"hint\" for a hint, or type \"give up\" to reveal the word:  mellon\n"
     ]
    },
    {
     "name": "stdout",
     "output_type": "stream",
     "text": [
      "opps wrong spelling player!\n",
      "_ _ _ _ _\n",
      "Attempts left: 5\n",
      "Total letters: 5\n",
      "Score: 100\n"
     ]
    },
    {
     "name": "stdin",
     "output_type": "stream",
     "text": [
      "Guess a letter, the whole word, type \"hint\" for a hint, or type \"give up\" to reveal the word:  melon\n"
     ]
    },
    {
     "name": "stdout",
     "output_type": "stream",
     "text": [
      "Congratulations! You guessed the word: Melon\n",
      "Your final score is: 150\n"
     ]
    },
    {
     "name": "stdin",
     "output_type": "stream",
     "text": [
      "Do you want to play again? (yes/no/restart):  yes\n"
     ]
    },
    {
     "name": "stdout",
     "output_type": "stream",
     "text": [
      "_ _ _ _ _ _ _\n",
      "Attempts left: 6\n",
      "Total letters: 7\n",
      "Score: 150\n"
     ]
    },
    {
     "name": "stdin",
     "output_type": "stream",
     "text": [
      "Guess a letter, the whole word, type \"hint\" for a hint, or type \"give up\" to reveal the word:  hint\n"
     ]
    },
    {
     "name": "stdout",
     "output_type": "stream",
     "text": [
      "Hint: A Green Leafy Vegetable Often Used In Cooking\n",
      "_ _ _ _ _ _ _\n",
      "Attempts left: 6\n",
      "Total letters: 7\n",
      "Score: 150\n"
     ]
    },
    {
     "name": "stdin",
     "output_type": "stream",
     "text": [
      "Guess a letter, the whole word, type \"hint\" for a hint, or type \"give up\" to reveal the word:  hint\n"
     ]
    },
    {
     "name": "stdout",
     "output_type": "stream",
     "text": [
      "Hint: Starts with C and ends with E\n",
      "_ _ _ _ _ _ _\n",
      "Attempts left: 6\n",
      "Total letters: 7\n",
      "Score: 150\n"
     ]
    },
    {
     "name": "stdin",
     "output_type": "stream",
     "text": [
      "Guess a letter, the whole word, type \"hint\" for a hint, or type \"give up\" to reveal the word:  Cabbagee\n"
     ]
    },
    {
     "name": "stdout",
     "output_type": "stream",
     "text": [
      "opps wrong spelling player!\n",
      "_ _ _ _ _ _ _\n",
      "Attempts left: 5\n",
      "Total letters: 7\n",
      "Score: 150\n"
     ]
    },
    {
     "name": "stdin",
     "output_type": "stream",
     "text": [
      "Guess a letter, the whole word, type \"hint\" for a hint, or type \"give up\" to reveal the word:  cabbage\n"
     ]
    },
    {
     "name": "stdout",
     "output_type": "stream",
     "text": [
      "Congratulations! You guessed the word: Cabbage\n",
      "Your final score is: 200\n"
     ]
    },
    {
     "name": "stdin",
     "output_type": "stream",
     "text": [
      "Do you want to play again? (yes/no/restart):  yes\n"
     ]
    },
    {
     "name": "stdout",
     "output_type": "stream",
     "text": [
      "_ _ _ _ _ _\n",
      "Attempts left: 6\n",
      "Total letters: 6\n",
      "Score: 200\n"
     ]
    },
    {
     "name": "stdin",
     "output_type": "stream",
     "text": [
      "Guess a letter, the whole word, type \"hint\" for a hint, or type \"give up\" to reveal the word:  hint\n"
     ]
    },
    {
     "name": "stdout",
     "output_type": "stream",
     "text": [
      "Hint: A Large, Yellow Or Orange Fruit Used In Cooking\n",
      "_ _ _ _ _ _\n",
      "Attempts left: 6\n",
      "Total letters: 6\n",
      "Score: 200\n"
     ]
    },
    {
     "name": "stdin",
     "output_type": "stream",
     "text": [
      "Guess a letter, the whole word, type \"hint\" for a hint, or type \"give up\" to reveal the word:  hint\n"
     ]
    },
    {
     "name": "stdout",
     "output_type": "stream",
     "text": [
      "Hint: Starts with S and ends with H\n",
      "_ _ _ _ _ _\n",
      "Attempts left: 6\n",
      "Total letters: 6\n",
      "Score: 200\n"
     ]
    },
    {
     "name": "stdin",
     "output_type": "stream",
     "text": [
      "Guess a letter, the whole word, type \"hint\" for a hint, or type \"give up\" to reveal the word:  S\n"
     ]
    },
    {
     "name": "stdout",
     "output_type": "stream",
     "text": [
      "Good guess! The letter \"s\" is in the word.\n",
      "S _ _ _ s _\n",
      "Attempts left: 6\n",
      "Total letters: 6\n",
      "Score: 210\n"
     ]
    },
    {
     "name": "stdin",
     "output_type": "stream",
     "text": [
      "Guess a letter, the whole word, type \"hint\" for a hint, or type \"give up\" to reveal the word:  savy\n"
     ]
    },
    {
     "name": "stdout",
     "output_type": "stream",
     "text": [
      "Incorrect guess. That is not the word.\n",
      "S _ _ _ s _\n",
      "Attempts left: 5\n",
      "Total letters: 6\n",
      "Score: 200\n"
     ]
    },
    {
     "name": "stdin",
     "output_type": "stream",
     "text": [
      "Guess a letter, the whole word, type \"hint\" for a hint, or type \"give up\" to reveal the word:  give up\n"
     ]
    },
    {
     "name": "stdout",
     "output_type": "stream",
     "text": [
      "The word was: Squash\n"
     ]
    }
   ],
   "source": [
    "import random # A module that provides functions to generate random numbers and make random selection\n",
    "import difflib # A module that provides classes and functions for comparing sequences including close matches\n",
    "\n",
    "\n",
    "def load_words(file_path): # Defines a function that is called named_load words which takes a single argument file_ path\n",
    "    words = [] #internalises an empty list called words to store the words from the file\n",
    "    hints = {} # internalises an empty dictionary named hints to store the hints associated with each word\n",
    "    \n",
    "    \n",
    "    with open(file_path, 'r') as file: # opens the file_path in read mode and asign the file object to file\n",
    "        for line in file: # iterates over each line in the file\n",
    "            line = line.strip() # Removes any trailing whitespace from the line\n",
    "            if ':' in line and ';' in line: # Checks if the line contains both a colon (:) and a semicolon (;)\n",
    "                try: # to handle potential errors\n",
    "                    word, hint = line.split(':') # Splits the line at the colon into word and hint\n",
    "                    hint1, hint2 = hint.split(';') # Splits the hint at the semicolon into hint1 and hint2\n",
    "                    words.append(word)# Adds the word to the words list.\n",
    "                    hints[word] = (hint1.strip(), hint2.strip()) # Adds the word as a key in the hints dictionary with a tuple of hint1 and hint2 as the value\n",
    "                except ValueError as e: # Prevents any ValueError exceptions that occur during the splitting process\n",
    "                    print(f\"Error processing line: {line}. Error: {e}\") # Prints an error message if a ValueError occurs\n",
    "            else:\n",
    "                # Commented out or remove the following line to avoid printing the message\n",
    "                # print(f\"Skipping improperly formatted line: {line}\")\n",
    "                pass\n",
    "    return words, hints # Returns the words list and hints dictionary\n",
    "    \n",
    "\n",
    "def display_state(hidden_word, attempts_left, score): # Defines a function named display_state that takes three arguments: hidden_word, attempts_left, and score.\n",
    "    print(' '.join(hidden_word)) # Prints the hidden_word list as a string with spaces between each character\n",
    "    print(f'Attempts left: {attempts_left}') # Prints the number of attempts left\n",
    "    print(f'Total letters: {len(hidden_word)}') # Prints the total number of letters in the hidden_word\n",
    "    print(f'Score: {score}') # Prints the current score\n",
    "    \n",
    "\n",
    "def guess_the_word_game(): # Defines a function named guess_the_word_game with no arguments\n",
    "    file_path = r\"C:\\Users\\ozorg\\Python Docs\\Text File for Fruits and Hints.txt\" # Sets the file path to the text file containing the words and hints\n",
    "    words, hints = load_words(file_path) # Calls the load_words function with file_path and assigns the returned words list and hints dictionary\n",
    "    total_score = 100  # Initialize total score to 100\n",
    "    play_again = True # Sets a flag to control the game loop\n",
    "    \n",
    "\n",
    "    while play_again: # Starts a loop that continues as long as play_again is True\n",
    "        chosen_word = random.choice(words) # Selects a random word from the words list\n",
    "        hidden_word = ['_' for _ in chosen_word] # Creates a list of underscores with the same length as the chosen_word\n",
    "        guessed_letters = set() # Initializes an empty set to store guessed letters\n",
    "        attempts_left = 6  # Set attempts to 6\n",
    "        score = total_score  # Carry over the score from the previous game\n",
    "        hint_count = 0  # Track the number of hints used\n",
    "        \n",
    "\n",
    "        while attempts_left > 0 and '_' in hidden_word and score > 0: #  Starts a loop that continues as long as there are attempts left, the word is not fully guessed, and the score is greater than zero\n",
    "            display_state(hidden_word, attempts_left, score) # Calls the display_state function to display the current game state\n",
    "            guess = input('Guess a letter, the whole word, type \"hint\" for a hint, or type \"give up\" to reveal the word: ').lower() # Prompts the player for a guess and converts it to lowercase\n",
    "            \n",
    "\n",
    "            if guess == \"give up\": # Checks if the player wants to give up\n",
    "                print(f'The word was: {chosen_word}') # Reveals the chosen word\n",
    "                break # to exits the inner loop\n",
    "            elif guess == \"hint\": # To check if the player asked for a hint\n",
    "                if hint_count < 2: # To checks if fewer than 2 hints have been used\n",
    "                    print(f'Hint: {hints[chosen_word][hint_count]}') # showes the next hint.\n",
    "                    hint_count += 1 # Increments the hint counter\n",
    "                else: # Executes if 2 hints have already been used\n",
    "                    print('No more hints available.') # Informs the player that no more hints are available\n",
    "                    \n",
    "            elif len(guess) == 1: # Checks if the player's guess is a single letter\n",
    "                \n",
    "                if guess in guessed_letters: # Checks if the guessed letter has already been guessed and is in the guessed_letters set\n",
    "                    print('You already guessed that letter.') # If the letter has already been guessed, it prints a message informing the player\n",
    "                elif guess in chosen_word.lower():  # Checks if the guessed letter is in the chosen_word (case-insensitive)\n",
    "                    guessed_letters.add(guess) # Adds the guessed letter to the guessed_letters set to keep track of guessed letters\n",
    "                    for i, letter in enumerate(chosen_word): # Iterates over each letter in the chosen_word along with its index i\n",
    "                        if letter.lower() == guess: # Checks if the current letter (converted to lowercase) matches the guessed letter\n",
    "                            hidden_word[i] = letter  # If the guessed letter matches, it updates the hidden_word at the corresponding index i with the actual letter from chosen_word,Preserve the original case\n",
    "                    print(f'Good guess! The letter \"{guess}\" is in the word.') # Prints a message indicating that the guessed letter is in the word\n",
    "                    score += 10  # Increases points for correct letter guess \n",
    "                else: # To block executes if the guessed letter is not in the chosen word\n",
    "                    guessed_letters.add(guess) # Adds the guessed letter to the set of guessed letters\n",
    "                    attempts_left -= 1 # Decreases the number of attempts left by 1\n",
    "                    score -= 5  # Deducts points for incorrect guess\n",
    "                    print(f'Incorrect guess. The letter \"{guess}\" is not in the word.') # Prints a message indicating that the guessed letter is not in the word\n",
    "                    \n",
    "            elif guess == chosen_word.lower(): # To check if the guessed word matches the chosen word (case-insensitive)\n",
    "                hidden_word = list(chosen_word) # Shows the entire chosen word by converting it to a list of characters\n",
    "                score += 50  # Increases the score by 50 points for correctly guessing the whole word\n",
    "                break # Exits the inner loop since the word has been guessed correctly\n",
    "                \n",
    "            else: #executes if the guessed word does not match the chosen word\n",
    "                close_matches = difflib.get_close_matches(guess, [chosen_word.lower()]) #  Finds close matches to the guessed word using the difflib module\n",
    "                if close_matches: # Checks if there are any close matches\n",
    "                    print('opps wrong spelling player!') # Prints a message to say that the guessed word is close but misspelled\n",
    "                    \n",
    "                    attempts_left -= 1  # Reduce attempts for close but incorrect guesses\n",
    "                else: # Executes if there are no close matches\n",
    "                    attempts_left -= 1 # Decreases the number of attempts left by 1 for an incorrect guess\n",
    "                    score -= 10  # Deduct points for incorrect word guess\n",
    "                    print('Incorrect guess. That is not the word.') # Prints a message indicating that the guessed word is incorrect\n",
    "\n",
    "        total_score = score # Updates the total score with the current score\n",
    "        \n",
    "        if score <= 0: #  Prints a message indicating that the game is over because the score has reached zero\n",
    "            print('Your score has reached zero. Game over.') # Prints a message indicating that the game is over because the score has reached zero\n",
    "            play_again_input = input('Do you want to play again? (yes/no): ').lower() # Tells the player to decide if they want to play again and converts the input to lowercase\n",
    "            if play_again_input == 'yes': # Checks if the player wants to play again\n",
    "                total_score = 100  # Reset total score to 100\n",
    "            else: # Executes if the player does not want to play again\n",
    "                play_again = False # Sets the flag to False to exit the game loop\n",
    "                break  # Exit the game loop\n",
    "                \n",
    "        elif '_' not in hidden_word: # Checks if there are no more underscores in the hidden word, meaning the word has been fully guessed\n",
    "            print(f'Congratulations! You guessed the word: {chosen_word}') # Prints a congratulatory message with the guessed word\n",
    "            print(f'Your final score is: {total_score}') # Prints the final score\n",
    "            \n",
    "        elif guess != \"give up\": # Checks if the player did not give up\n",
    "            print(f'Sorry, you ran out of attempts. The word was: {chosen_word}') # Prints a message indicating that the player ran out of attempts and reveals the word\n",
    "            print(f'Your final score is: {total_score}') # Prints the final score\n",
    "\n",
    "        if play_again:# Checks if the player wants to play again\n",
    "            play_again_input = input('Do you want to play again? (yes/no/restart): ').lower() # Tells the player to decide if they want to play again, restart, or quit, and converts the input to lowercase\n",
    "            if play_again_input == 'restart': # Checks if the player wants to restart the game\n",
    "                total_score = 100  # Reset total score to 100\n",
    "            elif play_again_input == 'no': # Checks if the player wants to quit\n",
    "                play_again = False # Sets the flag to False to exit the game loop\n",
    "                break  # Exit the game loop\n",
    "            elif play_again_input != 'yes': # Checks if the input is not \"yes\"\n",
    "                play_again = False # Sets the flag to False to exit the game loop\n",
    "\n",
    "if __name__ == \"__main__\": # Checks if the script is being run directly (not imported as a module)\n",
    "    guess_the_word_game() # Calls the guess_the_word_game function to start the game"
   ]
  },
  {
   "cell_type": "code",
   "execution_count": null,
   "id": "e5e58ddb-4070-4078-be07-c6c4f86fe462",
   "metadata": {},
   "outputs": [],
   "source": []
  }
 ],
 "metadata": {
  "kernelspec": {
   "display_name": "Python 3 (ipykernel)",
   "language": "python",
   "name": "python3"
  },
  "language_info": {
   "codemirror_mode": {
    "name": "ipython",
    "version": 3
   },
   "file_extension": ".py",
   "mimetype": "text/x-python",
   "name": "python",
   "nbconvert_exporter": "python",
   "pygments_lexer": "ipython3",
   "version": "3.12.5"
  }
 },
 "nbformat": 4,
 "nbformat_minor": 5
}
